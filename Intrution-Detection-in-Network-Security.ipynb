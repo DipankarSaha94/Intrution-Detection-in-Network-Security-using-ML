{
  "nbformat": 4,
  "nbformat_minor": 0,
  "metadata": {
    "colab": {
      "name": "SNS5.ipynb",
      "provenance": [],
      "collapsed_sections": []
    },
    "kernelspec": {
      "name": "python3",
      "display_name": "Python 3"
    },
    "language_info": {
      "name": "python"
    },
    "accelerator": "TPU"
  },
  "cells": [
    {
      "cell_type": "code",
      "metadata": {
        "id": "jzxZPzMCISeF"
      },
      "source": [
        "from IPython.core.interactiveshell import InteractiveShell\n",
        "InteractiveShell.ast_node_interactivity = \"all\""
      ],
      "execution_count": null,
      "outputs": []
    },
    {
      "cell_type": "code",
      "metadata": {
        "id": "x3EhBE78k5yE"
      },
      "source": [
        "#1\tDuration\t          22\tIs_guest_login\n",
        "#2\tProtocol_type\t      23\tCount\n",
        "#3\tService\t            24\tSerror_rate\n",
        "#4\tSrc_bytes\t          25\tRerror_rate\n",
        "#5\tDst_bytes\t          26\tSame_srv_rate\n",
        "#6\tFlag\t              27\tDiff_srv_rate\n",
        "#7\tLand\t              28\tSrv_count\n",
        "#8\tWrong_fragment\t    29\tSrv_serror_rate\n",
        "#9\tUrgent\t            30\tSrv_rerror_rate\n",
        "#10\tHot\t                31\tSrv_diff_host_rate\n",
        "#11\tNum_failed_logins\t  32\tDst_host_count\n",
        "#12\tLogged_in\t          33\tDst_host_srv_count\n",
        "#13\tNum_compromised\t    34\tDst_host_same_srv_rate\n",
        "#14\tRoot_shell\t        35\tDst_host_diff_srv_rate\n",
        "#15\tSu_attempted\t      36\tDst_host_same_src_port_rate\n",
        "#17\tNum_file_creations\t38\tDst_host_serror_rate\n",
        "#18\tNum_shells\t        39\tDst_host_srv_serror_rate\n",
        "#19\tNum_access_files\t  40\tDst_host_rerror_rate\n",
        "#20\tNum_outbound_cmds\t  41\tDst_host_srv_rerror_rate\n",
        "#21\tIs_hot_login\t      42\tclass"
      ],
      "execution_count": null,
      "outputs": []
    },
    {
      "cell_type": "code",
      "metadata": {
        "id": "Y1rgfQVFI3Fa"
      },
      "source": [
        "import numpy as np\n",
        "import pandas as pd\n",
        "import random as rnd\n",
        "import csv\n",
        "import random\n",
        "import math\n",
        "import operator\n",
        "from tabulate import tabulate\n",
        "import statistics\n",
        "from sklearn.metrics import mean_absolute_error\n",
        "from sklearn.metrics import mean_squared_error\n",
        "from sklearn.metrics import r2_score\n",
        "from sklearn import datasets, neighbors, linear_model, tree\n",
        "from pandas import read_csv\n",
        "import seaborn as sns\n",
        "from numpy import set_printoptions\n",
        "from sklearn import preprocessing\n",
        "from keras.models import Sequential\n",
        "from keras.layers import Dense, Dropout, Activation\n",
        "from keras.wrappers.scikit_learn import KerasClassifier\n",
        "from keras.optimizers import SGD\n",
        "import matplotlib.pyplot as plt\n",
        "import time\n",
        "from sklearn.preprocessing import MinMaxScaler\n",
        "from sklearn.metrics import accuracy_score,precision_score,recall_score,f1_score\n",
        "from sklearn.model_selection import train_test_split\n",
        "import warnings\n",
        "warnings.filterwarnings('ignore')"
      ],
      "execution_count": 1,
      "outputs": []
    },
    {
      "cell_type": "code",
      "metadata": {
        "id": "GrgJxHCyIW9h"
      },
      "source": [
        "df = pd.read_csv('/content/drive/MyDrive/SNS5_full.csv',header = None)"
      ],
      "execution_count": null,
      "outputs": []
    },
    {
      "cell_type": "markdown",
      "metadata": {
        "id": "zzw6PTl9aOpx"
      },
      "source": [
        "#DATA PRE-PROCCESSING"
      ]
    },
    {
      "cell_type": "code",
      "metadata": {
        "colab": {
          "base_uri": "https://localhost:8080/"
        },
        "id": "HU0LVsAlHHdG",
        "outputId": "8e2f205f-6637-4e7f-b02a-ec17eaf218c9"
      },
      "source": [
        "df.shape"
      ],
      "execution_count": null,
      "outputs": [
        {
          "output_type": "execute_result",
          "data": {
            "text/plain": [
              "(4898431, 42)"
            ]
          },
          "metadata": {
            "tags": []
          },
          "execution_count": 4
        }
      ]
    },
    {
      "cell_type": "code",
      "metadata": {
        "id": "YTazs0pVHIBA",
        "colab": {
          "base_uri": "https://localhost:8080/",
          "height": 224
        },
        "outputId": "6a8654d9-79c2-4076-f0d6-d60b7d57143d"
      },
      "source": [
        "df.head()"
      ],
      "execution_count": null,
      "outputs": [
        {
          "output_type": "execute_result",
          "data": {
            "text/html": [
              "<div>\n",
              "<style scoped>\n",
              "    .dataframe tbody tr th:only-of-type {\n",
              "        vertical-align: middle;\n",
              "    }\n",
              "\n",
              "    .dataframe tbody tr th {\n",
              "        vertical-align: top;\n",
              "    }\n",
              "\n",
              "    .dataframe thead th {\n",
              "        text-align: right;\n",
              "    }\n",
              "</style>\n",
              "<table border=\"1\" class=\"dataframe\">\n",
              "  <thead>\n",
              "    <tr style=\"text-align: right;\">\n",
              "      <th></th>\n",
              "      <th>0</th>\n",
              "      <th>1</th>\n",
              "      <th>2</th>\n",
              "      <th>3</th>\n",
              "      <th>4</th>\n",
              "      <th>5</th>\n",
              "      <th>6</th>\n",
              "      <th>7</th>\n",
              "      <th>8</th>\n",
              "      <th>9</th>\n",
              "      <th>10</th>\n",
              "      <th>11</th>\n",
              "      <th>12</th>\n",
              "      <th>13</th>\n",
              "      <th>14</th>\n",
              "      <th>15</th>\n",
              "      <th>16</th>\n",
              "      <th>17</th>\n",
              "      <th>18</th>\n",
              "      <th>19</th>\n",
              "      <th>20</th>\n",
              "      <th>21</th>\n",
              "      <th>22</th>\n",
              "      <th>23</th>\n",
              "      <th>24</th>\n",
              "      <th>25</th>\n",
              "      <th>26</th>\n",
              "      <th>27</th>\n",
              "      <th>28</th>\n",
              "      <th>29</th>\n",
              "      <th>30</th>\n",
              "      <th>31</th>\n",
              "      <th>32</th>\n",
              "      <th>33</th>\n",
              "      <th>34</th>\n",
              "      <th>35</th>\n",
              "      <th>36</th>\n",
              "      <th>37</th>\n",
              "      <th>38</th>\n",
              "      <th>39</th>\n",
              "      <th>40</th>\n",
              "      <th>41</th>\n",
              "    </tr>\n",
              "  </thead>\n",
              "  <tbody>\n",
              "    <tr>\n",
              "      <th>0</th>\n",
              "      <td>0</td>\n",
              "      <td>tcp</td>\n",
              "      <td>http</td>\n",
              "      <td>SF</td>\n",
              "      <td>215</td>\n",
              "      <td>45076</td>\n",
              "      <td>0</td>\n",
              "      <td>0</td>\n",
              "      <td>0</td>\n",
              "      <td>0</td>\n",
              "      <td>0</td>\n",
              "      <td>1</td>\n",
              "      <td>0</td>\n",
              "      <td>0</td>\n",
              "      <td>0</td>\n",
              "      <td>0</td>\n",
              "      <td>0</td>\n",
              "      <td>0</td>\n",
              "      <td>0</td>\n",
              "      <td>0</td>\n",
              "      <td>0</td>\n",
              "      <td>0</td>\n",
              "      <td>1</td>\n",
              "      <td>1</td>\n",
              "      <td>0.0</td>\n",
              "      <td>0.0</td>\n",
              "      <td>0.0</td>\n",
              "      <td>0.0</td>\n",
              "      <td>1.0</td>\n",
              "      <td>0.0</td>\n",
              "      <td>0.0</td>\n",
              "      <td>0</td>\n",
              "      <td>0</td>\n",
              "      <td>0.0</td>\n",
              "      <td>0.0</td>\n",
              "      <td>0.00</td>\n",
              "      <td>0.0</td>\n",
              "      <td>0.0</td>\n",
              "      <td>0.0</td>\n",
              "      <td>0.0</td>\n",
              "      <td>0.0</td>\n",
              "      <td>normal.</td>\n",
              "    </tr>\n",
              "    <tr>\n",
              "      <th>1</th>\n",
              "      <td>0</td>\n",
              "      <td>tcp</td>\n",
              "      <td>http</td>\n",
              "      <td>SF</td>\n",
              "      <td>162</td>\n",
              "      <td>4528</td>\n",
              "      <td>0</td>\n",
              "      <td>0</td>\n",
              "      <td>0</td>\n",
              "      <td>0</td>\n",
              "      <td>0</td>\n",
              "      <td>1</td>\n",
              "      <td>0</td>\n",
              "      <td>0</td>\n",
              "      <td>0</td>\n",
              "      <td>0</td>\n",
              "      <td>0</td>\n",
              "      <td>0</td>\n",
              "      <td>0</td>\n",
              "      <td>0</td>\n",
              "      <td>0</td>\n",
              "      <td>0</td>\n",
              "      <td>2</td>\n",
              "      <td>2</td>\n",
              "      <td>0.0</td>\n",
              "      <td>0.0</td>\n",
              "      <td>0.0</td>\n",
              "      <td>0.0</td>\n",
              "      <td>1.0</td>\n",
              "      <td>0.0</td>\n",
              "      <td>0.0</td>\n",
              "      <td>1</td>\n",
              "      <td>1</td>\n",
              "      <td>1.0</td>\n",
              "      <td>0.0</td>\n",
              "      <td>1.00</td>\n",
              "      <td>0.0</td>\n",
              "      <td>0.0</td>\n",
              "      <td>0.0</td>\n",
              "      <td>0.0</td>\n",
              "      <td>0.0</td>\n",
              "      <td>normal.</td>\n",
              "    </tr>\n",
              "    <tr>\n",
              "      <th>2</th>\n",
              "      <td>0</td>\n",
              "      <td>tcp</td>\n",
              "      <td>http</td>\n",
              "      <td>SF</td>\n",
              "      <td>236</td>\n",
              "      <td>1228</td>\n",
              "      <td>0</td>\n",
              "      <td>0</td>\n",
              "      <td>0</td>\n",
              "      <td>0</td>\n",
              "      <td>0</td>\n",
              "      <td>1</td>\n",
              "      <td>0</td>\n",
              "      <td>0</td>\n",
              "      <td>0</td>\n",
              "      <td>0</td>\n",
              "      <td>0</td>\n",
              "      <td>0</td>\n",
              "      <td>0</td>\n",
              "      <td>0</td>\n",
              "      <td>0</td>\n",
              "      <td>0</td>\n",
              "      <td>1</td>\n",
              "      <td>1</td>\n",
              "      <td>0.0</td>\n",
              "      <td>0.0</td>\n",
              "      <td>0.0</td>\n",
              "      <td>0.0</td>\n",
              "      <td>1.0</td>\n",
              "      <td>0.0</td>\n",
              "      <td>0.0</td>\n",
              "      <td>2</td>\n",
              "      <td>2</td>\n",
              "      <td>1.0</td>\n",
              "      <td>0.0</td>\n",
              "      <td>0.50</td>\n",
              "      <td>0.0</td>\n",
              "      <td>0.0</td>\n",
              "      <td>0.0</td>\n",
              "      <td>0.0</td>\n",
              "      <td>0.0</td>\n",
              "      <td>normal.</td>\n",
              "    </tr>\n",
              "    <tr>\n",
              "      <th>3</th>\n",
              "      <td>0</td>\n",
              "      <td>tcp</td>\n",
              "      <td>http</td>\n",
              "      <td>SF</td>\n",
              "      <td>233</td>\n",
              "      <td>2032</td>\n",
              "      <td>0</td>\n",
              "      <td>0</td>\n",
              "      <td>0</td>\n",
              "      <td>0</td>\n",
              "      <td>0</td>\n",
              "      <td>1</td>\n",
              "      <td>0</td>\n",
              "      <td>0</td>\n",
              "      <td>0</td>\n",
              "      <td>0</td>\n",
              "      <td>0</td>\n",
              "      <td>0</td>\n",
              "      <td>0</td>\n",
              "      <td>0</td>\n",
              "      <td>0</td>\n",
              "      <td>0</td>\n",
              "      <td>2</td>\n",
              "      <td>2</td>\n",
              "      <td>0.0</td>\n",
              "      <td>0.0</td>\n",
              "      <td>0.0</td>\n",
              "      <td>0.0</td>\n",
              "      <td>1.0</td>\n",
              "      <td>0.0</td>\n",
              "      <td>0.0</td>\n",
              "      <td>3</td>\n",
              "      <td>3</td>\n",
              "      <td>1.0</td>\n",
              "      <td>0.0</td>\n",
              "      <td>0.33</td>\n",
              "      <td>0.0</td>\n",
              "      <td>0.0</td>\n",
              "      <td>0.0</td>\n",
              "      <td>0.0</td>\n",
              "      <td>0.0</td>\n",
              "      <td>normal.</td>\n",
              "    </tr>\n",
              "    <tr>\n",
              "      <th>4</th>\n",
              "      <td>0</td>\n",
              "      <td>tcp</td>\n",
              "      <td>http</td>\n",
              "      <td>SF</td>\n",
              "      <td>239</td>\n",
              "      <td>486</td>\n",
              "      <td>0</td>\n",
              "      <td>0</td>\n",
              "      <td>0</td>\n",
              "      <td>0</td>\n",
              "      <td>0</td>\n",
              "      <td>1</td>\n",
              "      <td>0</td>\n",
              "      <td>0</td>\n",
              "      <td>0</td>\n",
              "      <td>0</td>\n",
              "      <td>0</td>\n",
              "      <td>0</td>\n",
              "      <td>0</td>\n",
              "      <td>0</td>\n",
              "      <td>0</td>\n",
              "      <td>0</td>\n",
              "      <td>3</td>\n",
              "      <td>3</td>\n",
              "      <td>0.0</td>\n",
              "      <td>0.0</td>\n",
              "      <td>0.0</td>\n",
              "      <td>0.0</td>\n",
              "      <td>1.0</td>\n",
              "      <td>0.0</td>\n",
              "      <td>0.0</td>\n",
              "      <td>4</td>\n",
              "      <td>4</td>\n",
              "      <td>1.0</td>\n",
              "      <td>0.0</td>\n",
              "      <td>0.25</td>\n",
              "      <td>0.0</td>\n",
              "      <td>0.0</td>\n",
              "      <td>0.0</td>\n",
              "      <td>0.0</td>\n",
              "      <td>0.0</td>\n",
              "      <td>normal.</td>\n",
              "    </tr>\n",
              "  </tbody>\n",
              "</table>\n",
              "</div>"
            ],
            "text/plain": [
              "   0    1     2   3    4      5   6   ...    35   36   37   38   39   40       41\n",
              "0   0  tcp  http  SF  215  45076   0  ...  0.00  0.0  0.0  0.0  0.0  0.0  normal.\n",
              "1   0  tcp  http  SF  162   4528   0  ...  1.00  0.0  0.0  0.0  0.0  0.0  normal.\n",
              "2   0  tcp  http  SF  236   1228   0  ...  0.50  0.0  0.0  0.0  0.0  0.0  normal.\n",
              "3   0  tcp  http  SF  233   2032   0  ...  0.33  0.0  0.0  0.0  0.0  0.0  normal.\n",
              "4   0  tcp  http  SF  239    486   0  ...  0.25  0.0  0.0  0.0  0.0  0.0  normal.\n",
              "\n",
              "[5 rows x 42 columns]"
            ]
          },
          "metadata": {
            "tags": []
          },
          "execution_count": 5
        }
      ]
    },
    {
      "cell_type": "code",
      "metadata": {
        "id": "fVl_t4_cIFK4"
      },
      "source": [
        "#Visualization\n",
        "def bar_graph(feature):\n",
        "    df[feature].value_counts().plot(kind=\"bar\")"
      ],
      "execution_count": null,
      "outputs": []
    },
    {
      "cell_type": "code",
      "metadata": {
        "colab": {
          "base_uri": "https://localhost:8080/",
          "height": 291
        },
        "id": "1flrHsbeIT1D",
        "outputId": "7732d4af-d216-4250-8cb9-c7f7956529d8"
      },
      "source": [
        "bar_graph(1)"
      ],
      "execution_count": null,
      "outputs": [
        {
          "output_type": "display_data",
          "data": {
            "image/png": "[encoded data removed]",
            "text/plain": [
              "<Figure size 432x288 with 1 Axes>"
            ]
          },
          "metadata": {
            "tags": [],
            "needs_background": "light"
          }
        }
      ]
    },
    {
      "cell_type": "code",
      "metadata": {
        "colab": {
          "base_uri": "https://localhost:8080/",
          "height": 293
        },
        "id": "BlVIb15GIVhg",
        "outputId": "4efd774b-2d73-4230-bd5e-9801eb80519e"
      },
      "source": [
        "plt.figure(figsize=(15,3))\n",
        "bar_graph(2)"
      ],
      "execution_count": null,
      "outputs": [
        {
          "output_type": "execute_result",
          "data": {
            "text/plain": [
              "<Figure size 1080x216 with 0 Axes>"
            ]
          },
          "metadata": {
            "tags": []
          },
          "execution_count": 8
        },
        {
          "output_type": "display_data",
          "data": {
            "image/png": "[encoded data removed]",
            "text/plain": [
              "<Figure size 1080x216 with 1 Axes>"
            ]
          },
          "metadata": {
            "tags": [],
            "needs_background": "light"
          }
        }
      ]
    },
    {
      "cell_type": "code",
      "metadata": {
        "colab": {
          "base_uri": "https://localhost:8080/",
          "height": 306
        },
        "id": "R0VaqGKVIZ1y",
        "outputId": "3e2817a9-c60d-4486-fbdb-267e45a0908d"
      },
      "source": [
        "bar_graph(3)"
      ],
      "execution_count": null,
      "outputs": [
        {
          "output_type": "display_data",
          "data": {
            "image/png": "[encoded data removed]",
            "text/plain": [
              "<Figure size 432x288 with 1 Axes>"
            ]
          },
          "metadata": {
            "tags": [],
            "needs_background": "light"
          }
        }
      ]
    },
    {
      "cell_type": "code",
      "metadata": {
        "colab": {
          "base_uri": "https://localhost:8080/",
          "height": 347
        },
        "id": "0o4CoESkIdeH",
        "outputId": "d37536a6-307c-4d78-8129-3fb63a45e004"
      },
      "source": [
        "bar_graph(41)"
      ],
      "execution_count": null,
      "outputs": [
        {
          "output_type": "display_data",
          "data": {
            "image/png": "[encoded data removed]",
            "text/plain": [
              "<Figure size 432x288 with 1 Axes>"
            ]
          },
          "metadata": {
            "tags": [],
            "needs_background": "light"
          }
        }
      ]
    },
    {
      "cell_type": "code",
      "metadata": {
        "colab": {
          "base_uri": "https://localhost:8080/",
          "height": 721
        },
        "id": "uIdx0Q55Ixq4",
        "outputId": "197e0b00-f38c-46fe-f2e9-403d9dc54b2c"
      },
      "source": [
        "df = df[[col for col in df if df[col].nunique() > 1]]\n",
        "\n",
        "corr = df.corr()\n",
        "\n",
        "plt.figure(figsize=(15,12))\n",
        "\n",
        "sns.heatmap(corr)\n",
        "\n",
        "plt.show()"
      ],
      "execution_count": null,
      "outputs": [
        {
          "output_type": "execute_result",
          "data": {
            "text/plain": [
              "<Figure size 1080x864 with 0 Axes>"
            ]
          },
          "metadata": {
            "tags": []
          },
          "execution_count": 27
        },
        {
          "output_type": "execute_result",
          "data": {
            "text/plain": [
              "<matplotlib.axes._subplots.AxesSubplot at 0x7fc4fc2ec6d0>"
            ]
          },
          "metadata": {
            "tags": []
          },
          "execution_count": 27
        },
        {
          "output_type": "display_data",
          "data": {
            "image/png": "[encoded data removed]",
            "text/plain": [
              "<Figure size 1080x864 with 2 Axes>"
            ]
          },
          "metadata": {
            "tags": [],
            "needs_background": "light"
          }
        }
      ]
    },
    {
      "cell_type": "markdown",
      "metadata": {
        "id": "cSPs_sCVQmuM"
      },
      "source": [
        "***From above we can conclude that two feature are high correlated if their repective column is white. Based on this thoery we have tried to find the correlation of these columns by looking at the above graph.***"
      ]
    },
    {
      "cell_type": "code",
      "metadata": {
        "colab": {
          "base_uri": "https://localhost:8080/"
        },
        "id": "cy9U62fmJBIr",
        "outputId": "9d7a7ff6-79be-4be3-b223-6110c2e04a36"
      },
      "source": [
        "print(df[15].corr(df[12]))\n",
        "print(df[39].corr(df[40]))"
      ],
      "execution_count": null,
      "outputs": [
        {
          "output_type": "stream",
          "text": [
            "0.9975798933487886\n",
            "0.9869790678087113\n"
          ],
          "name": "stdout"
        }
      ]
    },
    {
      "cell_type": "code",
      "metadata": {
        "colab": {
          "base_uri": "https://localhost:8080/"
        },
        "id": "eBSwqaUyUz8w",
        "outputId": "623cb75f-5144-4ade-845c-b995d3a8003a"
      },
      "source": [
        "print(df[37].corr(df[38]))\n",
        "print(df[33].corr(df[32]))"
      ],
      "execution_count": null,
      "outputs": [
        {
          "output_type": "stream",
          "text": [
            "0.9982859559765034\n",
            "0.9788464524219127\n"
          ],
          "name": "stdout"
        }
      ]
    },
    {
      "cell_type": "code",
      "metadata": {
        "colab": {
          "base_uri": "https://localhost:8080/"
        },
        "id": "yRHr2KrTUSak",
        "outputId": "3c52d25d-25d2-489d-aa5e-6b65991c4174"
      },
      "source": [
        "print(df[26].corr(df[40]))\n",
        "print(df[27].corr(df[40]))\n",
        "print(df[39].corr(df[26]))\n",
        "print(df[39].corr(df[27]))"
      ],
      "execution_count": null,
      "outputs": [
        {
          "output_type": "stream",
          "text": [
            "0.9859781723137269\n",
            "0.9879088754808458\n",
            "0.9897555886507504\n",
            "0.9855530624565038\n"
          ],
          "name": "stdout"
        }
      ]
    },
    {
      "cell_type": "code",
      "metadata": {
        "colab": {
          "base_uri": "https://localhost:8080/"
        },
        "id": "JmLmPRioUk3M",
        "outputId": "4c2cbc89-7a33-4bb6-ba9a-a88382f32f3a"
      },
      "source": [
        "print(df[24].corr(df[37]))\n",
        "print(df[25].corr(df[37]))\n",
        "print(df[24].corr(df[38]))\n",
        "print(df[25].corr(df[38]))"
      ],
      "execution_count": null,
      "outputs": [
        {
          "output_type": "stream",
          "text": [
            "0.9990059376726664\n",
            "0.9979417182535862\n",
            "0.9982509415920111\n",
            "0.9993917300375501\n"
          ],
          "name": "stdout"
        }
      ]
    },
    {
      "cell_type": "code",
      "metadata": {
        "colab": {
          "base_uri": "https://localhost:8080/"
        },
        "id": "frVjjF0ST0Dm",
        "outputId": "e6c20403-7e55-40be-ad05-ff59cebf4dc0"
      },
      "source": [
        "print(df[23].corr(df[35]))\n",
        "print(df[28].corr(df[33]))\n",
        "print(df[22].corr(df[23]))"
      ],
      "execution_count": null,
      "outputs": [
        {
          "output_type": "stream",
          "text": [
            "0.9473596471555557\n",
            "0.9316213679068658\n",
            "0.9433902218807168\n"
          ],
          "name": "stdout"
        }
      ]
    },
    {
      "cell_type": "code",
      "metadata": {
        "colab": {
          "base_uri": "https://localhost:8080/"
        },
        "id": "I1ArcQZdVHna",
        "outputId": "9c2b4745-b3c9-44b1-c645-6032ec3af363"
      },
      "source": [
        "print(df[26].corr(df[27]))\n",
        "print(df[24].corr(df[25]))"
      ],
      "execution_count": null,
      "outputs": [
        {
          "output_type": "stream",
          "text": [
            "0.9953719458067455\n",
            "0.9986924138661805\n"
          ],
          "name": "stdout"
        }
      ]
    },
    {
      "cell_type": "markdown",
      "metadata": {
        "id": "zHnwFSAIA1nM"
      },
      "source": [
        "***As can be seen above, we were not accurate in all the cases but we could see some columns are highly correlated with other as their value is more than .98 , so we could drop these columns.***"
      ]
    },
    {
      "cell_type": "code",
      "metadata": {
        "id": "SE_1Bf7QV2jC"
      },
      "source": [
        "df.drop(24,axis = 1,inplace = True)\n",
        "df.drop(25,axis = 1,inplace = True)\n",
        "df.drop(26,axis = 1,inplace = True)\n",
        "df.drop(27,axis = 1,inplace = True)\n",
        "df.drop(12,axis = 1,inplace = True)\n",
        "df.drop(15,axis = 1,inplace = True)\n",
        "df.drop(32,axis = 1,inplace = True)\n",
        "df.drop(33,axis = 1,inplace = True)\n",
        "df.drop(37,axis = 1,inplace = True)\n",
        "df.drop(38,axis = 1,inplace = True)\n",
        "df.drop(39,axis = 1,inplace = True)\n",
        "df.drop(40,axis = 1,inplace = True)"
      ],
      "execution_count": null,
      "outputs": []
    },
    {
      "cell_type": "code",
      "metadata": {
        "colab": {
          "base_uri": "https://localhost:8080/",
          "height": 721
        },
        "id": "ANpEO-ReWqYX",
        "outputId": "a8d61039-8328-4ee8-d0b3-096c6d7ca85d"
      },
      "source": [
        "df = df[[col for col in df if df[col].nunique() > 1]]\n",
        "\n",
        "corr = df.corr()\n",
        "\n",
        "plt.figure(figsize=(15,12))\n",
        "\n",
        "sns.heatmap(corr)\n",
        "\n",
        "plt.show()"
      ],
      "execution_count": null,
      "outputs": [
        {
          "output_type": "execute_result",
          "data": {
            "text/plain": [
              "<Figure size 1080x864 with 0 Axes>"
            ]
          },
          "metadata": {
            "tags": []
          },
          "execution_count": 24
        },
        {
          "output_type": "execute_result",
          "data": {
            "text/plain": [
              "<matplotlib.axes._subplots.AxesSubplot at 0x7ff020594ed0>"
            ]
          },
          "metadata": {
            "tags": []
          },
          "execution_count": 24
        },
        {
          "output_type": "display_data",
          "data": {
            "image/png": "[encoded data removed]",
            "text/plain": [
              "<Figure size 1080x864 with 2 Axes>"
            ]
          },
          "metadata": {
            "tags": [],
            "needs_background": "light"
          }
        }
      ]
    },
    {
      "cell_type": "code",
      "metadata": {
        "colab": {
          "base_uri": "https://localhost:8080/"
        },
        "id": "-KshxL_pX5M3",
        "outputId": "7791fa1d-6638-4a88-8b30-e4b2857efaa7"
      },
      "source": [
        "df[1].value_counts()\n",
        "df[2].value_counts()\n",
        "df[3].value_counts()"
      ],
      "execution_count": null,
      "outputs": [
        {
          "output_type": "execute_result",
          "data": {
            "text/plain": [
              "icmp    2833545\n",
              "tcp     1870598\n",
              "udp      194288\n",
              "Name: 1, dtype: int64"
            ]
          },
          "metadata": {
            "tags": []
          },
          "execution_count": 20
        },
        {
          "output_type": "execute_result",
          "data": {
            "text/plain": [
              "ecr_i        2811660\n",
              "private      1100831\n",
              "http          623091\n",
              "smtp           96554\n",
              "other          72653\n",
              "              ...   \n",
              "tftp_u             3\n",
              "aol                2\n",
              "http_8001          2\n",
              "harvest            2\n",
              "http_2784          1\n",
              "Name: 2, Length: 70, dtype: int64"
            ]
          },
          "metadata": {
            "tags": []
          },
          "execution_count": 20
        },
        {
          "output_type": "execute_result",
          "data": {
            "text/plain": [
              "SF        3744328\n",
              "S0         869829\n",
              "REJ        268874\n",
              "RSTR         8094\n",
              "RSTO         5344\n",
              "SH           1040\n",
              "S1            532\n",
              "S2            161\n",
              "RSTOS0        122\n",
              "OTH            57\n",
              "S3             50\n",
              "Name: 3, dtype: int64"
            ]
          },
          "metadata": {
            "tags": []
          },
          "execution_count": 20
        }
      ]
    },
    {
      "cell_type": "code",
      "metadata": {
        "id": "2g13rKr5Wwyz"
      },
      "source": [
        "df[1].replace({'icmp': 0, 'tcp': 1, 'udp' : 2}, inplace=True)\n",
        "df[2].replace({'http':1, 'smtp':2, 'domain_u':3, 'auth':4, 'finger':5, 'telnet':6, 'eco_i':7,\n",
        "               'ftp':8, 'ntp_u':9, 'ecr_i':10, 'other':11, 'urp_i':12, 'private':13, 'pop_3':14,\n",
        "               'ftp_data':15, 'netstat':16, 'daytime':17, 'ssh':18, 'echo':19, 'time':20,\n",
        "               'name':21,'whois':22, 'domain':23, 'mtp':24, 'gopher':25, 'remote_job':26, \n",
        "               'rje':17, 'ctf':28,'supdup':29, 'link':30, 'systat':31, 'discard':32, 'X11':33, \n",
        "               'shell':34, 'login':35,'imap4':36, 'nntp':37, 'uucp':38, 'pm_dump':39, 'IRC':40, \n",
        "               'Z39_50':41, 'netbios_dgm':42,'ldap':43, 'sunrpc':44, 'courier':45, 'exec':46, \n",
        "               'bgp':47, 'csnet_ns':48, 'http_443':49,'klogin':50, 'printer':51, 'netbios_ssn':52, \n",
        "               'pop_2':53, 'nnsp':54, 'efs':55,'hostnames':56, 'uucp_path':57, 'sql_net':58, \n",
        "               'vmnet':59, 'iso_tsap':60,'netbios_ns':61, 'kshell':62, 'urh_i':63, 'http_2784':64, \n",
        "               'harvest':65, 'aol':66,'tftp_u':67, 'http_8001':68, 'tim_i':69, 'red_i':70}, inplace=True)\n",
        "df[3].replace({'SF':0,'S0':1,'REJ':2,'RSTR':3,'RSTO':4,'SH':5 ,'S1':6 ,'S2':7,'RSTOS0':8,'OTH':9,\n",
        "               'S3':10}, inplace=True)"
      ],
      "execution_count": null,
      "outputs": []
    },
    {
      "cell_type": "code",
      "metadata": {
        "colab": {
          "base_uri": "https://localhost:8080/",
          "height": 204
        },
        "id": "H42ReYMxYyJj",
        "outputId": "4ec36a22-df69-4c39-d347-51f32f1833a5"
      },
      "source": [
        "df.head()"
      ],
      "execution_count": null,
      "outputs": [
        {
          "output_type": "execute_result",
          "data": {
            "text/html": [
              "<div>\n",
              "<style scoped>\n",
              "    .dataframe tbody tr th:only-of-type {\n",
              "        vertical-align: middle;\n",
              "    }\n",
              "\n",
              "    .dataframe tbody tr th {\n",
              "        vertical-align: top;\n",
              "    }\n",
              "\n",
              "    .dataframe thead th {\n",
              "        text-align: right;\n",
              "    }\n",
              "</style>\n",
              "<table border=\"1\" class=\"dataframe\">\n",
              "  <thead>\n",
              "    <tr style=\"text-align: right;\">\n",
              "      <th></th>\n",
              "      <th>0</th>\n",
              "      <th>1</th>\n",
              "      <th>2</th>\n",
              "      <th>3</th>\n",
              "      <th>4</th>\n",
              "      <th>5</th>\n",
              "      <th>6</th>\n",
              "      <th>7</th>\n",
              "      <th>8</th>\n",
              "      <th>9</th>\n",
              "      <th>10</th>\n",
              "      <th>11</th>\n",
              "      <th>13</th>\n",
              "      <th>14</th>\n",
              "      <th>16</th>\n",
              "      <th>17</th>\n",
              "      <th>18</th>\n",
              "      <th>20</th>\n",
              "      <th>21</th>\n",
              "      <th>22</th>\n",
              "      <th>23</th>\n",
              "      <th>28</th>\n",
              "      <th>29</th>\n",
              "      <th>30</th>\n",
              "      <th>31</th>\n",
              "      <th>34</th>\n",
              "      <th>35</th>\n",
              "      <th>36</th>\n",
              "      <th>41</th>\n",
              "    </tr>\n",
              "  </thead>\n",
              "  <tbody>\n",
              "    <tr>\n",
              "      <th>0</th>\n",
              "      <td>0</td>\n",
              "      <td>1</td>\n",
              "      <td>1</td>\n",
              "      <td>0</td>\n",
              "      <td>215</td>\n",
              "      <td>45076</td>\n",
              "      <td>0</td>\n",
              "      <td>0</td>\n",
              "      <td>0</td>\n",
              "      <td>0</td>\n",
              "      <td>0</td>\n",
              "      <td>1</td>\n",
              "      <td>0</td>\n",
              "      <td>0</td>\n",
              "      <td>0</td>\n",
              "      <td>0</td>\n",
              "      <td>0</td>\n",
              "      <td>0</td>\n",
              "      <td>0</td>\n",
              "      <td>1</td>\n",
              "      <td>1</td>\n",
              "      <td>1.0</td>\n",
              "      <td>0.0</td>\n",
              "      <td>0.0</td>\n",
              "      <td>0</td>\n",
              "      <td>0.0</td>\n",
              "      <td>0.00</td>\n",
              "      <td>0.0</td>\n",
              "      <td>normal.</td>\n",
              "    </tr>\n",
              "    <tr>\n",
              "      <th>1</th>\n",
              "      <td>0</td>\n",
              "      <td>1</td>\n",
              "      <td>1</td>\n",
              "      <td>0</td>\n",
              "      <td>162</td>\n",
              "      <td>4528</td>\n",
              "      <td>0</td>\n",
              "      <td>0</td>\n",
              "      <td>0</td>\n",
              "      <td>0</td>\n",
              "      <td>0</td>\n",
              "      <td>1</td>\n",
              "      <td>0</td>\n",
              "      <td>0</td>\n",
              "      <td>0</td>\n",
              "      <td>0</td>\n",
              "      <td>0</td>\n",
              "      <td>0</td>\n",
              "      <td>0</td>\n",
              "      <td>2</td>\n",
              "      <td>2</td>\n",
              "      <td>1.0</td>\n",
              "      <td>0.0</td>\n",
              "      <td>0.0</td>\n",
              "      <td>1</td>\n",
              "      <td>0.0</td>\n",
              "      <td>1.00</td>\n",
              "      <td>0.0</td>\n",
              "      <td>normal.</td>\n",
              "    </tr>\n",
              "    <tr>\n",
              "      <th>2</th>\n",
              "      <td>0</td>\n",
              "      <td>1</td>\n",
              "      <td>1</td>\n",
              "      <td>0</td>\n",
              "      <td>236</td>\n",
              "      <td>1228</td>\n",
              "      <td>0</td>\n",
              "      <td>0</td>\n",
              "      <td>0</td>\n",
              "      <td>0</td>\n",
              "      <td>0</td>\n",
              "      <td>1</td>\n",
              "      <td>0</td>\n",
              "      <td>0</td>\n",
              "      <td>0</td>\n",
              "      <td>0</td>\n",
              "      <td>0</td>\n",
              "      <td>0</td>\n",
              "      <td>0</td>\n",
              "      <td>1</td>\n",
              "      <td>1</td>\n",
              "      <td>1.0</td>\n",
              "      <td>0.0</td>\n",
              "      <td>0.0</td>\n",
              "      <td>2</td>\n",
              "      <td>0.0</td>\n",
              "      <td>0.50</td>\n",
              "      <td>0.0</td>\n",
              "      <td>normal.</td>\n",
              "    </tr>\n",
              "    <tr>\n",
              "      <th>3</th>\n",
              "      <td>0</td>\n",
              "      <td>1</td>\n",
              "      <td>1</td>\n",
              "      <td>0</td>\n",
              "      <td>233</td>\n",
              "      <td>2032</td>\n",
              "      <td>0</td>\n",
              "      <td>0</td>\n",
              "      <td>0</td>\n",
              "      <td>0</td>\n",
              "      <td>0</td>\n",
              "      <td>1</td>\n",
              "      <td>0</td>\n",
              "      <td>0</td>\n",
              "      <td>0</td>\n",
              "      <td>0</td>\n",
              "      <td>0</td>\n",
              "      <td>0</td>\n",
              "      <td>0</td>\n",
              "      <td>2</td>\n",
              "      <td>2</td>\n",
              "      <td>1.0</td>\n",
              "      <td>0.0</td>\n",
              "      <td>0.0</td>\n",
              "      <td>3</td>\n",
              "      <td>0.0</td>\n",
              "      <td>0.33</td>\n",
              "      <td>0.0</td>\n",
              "      <td>normal.</td>\n",
              "    </tr>\n",
              "    <tr>\n",
              "      <th>4</th>\n",
              "      <td>0</td>\n",
              "      <td>1</td>\n",
              "      <td>1</td>\n",
              "      <td>0</td>\n",
              "      <td>239</td>\n",
              "      <td>486</td>\n",
              "      <td>0</td>\n",
              "      <td>0</td>\n",
              "      <td>0</td>\n",
              "      <td>0</td>\n",
              "      <td>0</td>\n",
              "      <td>1</td>\n",
              "      <td>0</td>\n",
              "      <td>0</td>\n",
              "      <td>0</td>\n",
              "      <td>0</td>\n",
              "      <td>0</td>\n",
              "      <td>0</td>\n",
              "      <td>0</td>\n",
              "      <td>3</td>\n",
              "      <td>3</td>\n",
              "      <td>1.0</td>\n",
              "      <td>0.0</td>\n",
              "      <td>0.0</td>\n",
              "      <td>4</td>\n",
              "      <td>0.0</td>\n",
              "      <td>0.25</td>\n",
              "      <td>0.0</td>\n",
              "      <td>normal.</td>\n",
              "    </tr>\n",
              "  </tbody>\n",
              "</table>\n",
              "</div>"
            ],
            "text/plain": [
              "   0   1   2   3    4      5   6   ...   29   30  31   34    35   36       41\n",
              "0   0   1   1   0  215  45076   0  ...  0.0  0.0   0  0.0  0.00  0.0  normal.\n",
              "1   0   1   1   0  162   4528   0  ...  0.0  0.0   1  0.0  1.00  0.0  normal.\n",
              "2   0   1   1   0  236   1228   0  ...  0.0  0.0   2  0.0  0.50  0.0  normal.\n",
              "3   0   1   1   0  233   2032   0  ...  0.0  0.0   3  0.0  0.33  0.0  normal.\n",
              "4   0   1   1   0  239    486   0  ...  0.0  0.0   4  0.0  0.25  0.0  normal.\n",
              "\n",
              "[5 rows x 29 columns]"
            ]
          },
          "metadata": {
            "tags": []
          },
          "execution_count": 32
        }
      ]
    },
    {
      "cell_type": "code",
      "metadata": {
        "colab": {
          "base_uri": "https://localhost:8080/",
          "height": 721
        },
        "id": "O-02YGBzy-nP",
        "outputId": "2afe3f74-02a6-4ec3-c8a7-c4f9e1d22a2d"
      },
      "source": [
        "corr = df.corr()\n",
        "\n",
        "plt.figure(figsize=(15,12))\n",
        "\n",
        "sns.heatmap(corr)\n",
        "\n",
        "plt.show()"
      ],
      "execution_count": null,
      "outputs": [
        {
          "output_type": "execute_result",
          "data": {
            "text/plain": [
              "<Figure size 1080x864 with 0 Axes>"
            ]
          },
          "metadata": {
            "tags": []
          },
          "execution_count": 33
        },
        {
          "output_type": "execute_result",
          "data": {
            "text/plain": [
              "<matplotlib.axes._subplots.AxesSubplot at 0x7fc4fbcfda90>"
            ]
          },
          "metadata": {
            "tags": []
          },
          "execution_count": 33
        },
        {
          "output_type": "display_data",
          "data": {
            "image/png": "[encoded data removed]",
            "text/plain": [
              "<Figure size 1080x864 with 2 Axes>"
            ]
          },
          "metadata": {
            "tags": [],
            "needs_background": "light"
          }
        }
      ]
    },
    {
      "cell_type": "code",
      "metadata": {
        "colab": {
          "base_uri": "https://localhost:8080/"
        },
        "id": "tV4H_fzVY4SA",
        "outputId": "c4319d33-26aa-4bf4-d467-cf0378152db8"
      },
      "source": [
        "df.shape"
      ],
      "execution_count": null,
      "outputs": [
        {
          "output_type": "execute_result",
          "data": {
            "text/plain": [
              "(4898431, 29)"
            ]
          },
          "metadata": {
            "tags": []
          },
          "execution_count": 107
        }
      ]
    },
    {
      "cell_type": "markdown",
      "metadata": {
        "id": "qE03Xo7Ra3NP"
      },
      "source": [
        "MODELING"
      ]
    },
    {
      "cell_type": "code",
      "metadata": {
        "colab": {
          "base_uri": "https://localhost:8080/"
        },
        "id": "yaEggOVoa5EA",
        "outputId": "95944f5b-c803-4c5e-fbfa-8fd45ebba2ae"
      },
      "source": [
        "# Target variable and train set\n",
        "Y = df[[41]]\n",
        "X = df.drop([41,], axis=1)\n",
        "\n",
        "#sc = MinMaxScaler()\n",
        "#X = sc.fit_transform(X)\n",
        "\n",
        "# Split test and train data \n",
        "X_train, X_test, Y_train, Y_test = train_test_split(X, Y, test_size=0.3, random_state=99)\n",
        "print(X_train.shape, X_test.shape)\n",
        "print(Y_train.shape, Y_test.shape)"
      ],
      "execution_count": null,
      "outputs": [
        {
          "output_type": "stream",
          "text": [
            "(3428901, 28) (1469530, 28)\n",
            "(3428901, 1) (1469530, 1)\n"
          ],
          "name": "stdout"
        }
      ]
    },
    {
      "cell_type": "markdown",
      "metadata": {
        "id": "qTp6iAeObOsl"
      },
      "source": [
        "#GAUSSIAN NAIVE BAYES"
      ]
    },
    {
      "cell_type": "code",
      "metadata": {
        "id": "9H1AFXALbGiS"
      },
      "source": [
        "from sklearn.naive_bayes import GaussianNB\n",
        "\n",
        "modelGNB = GaussianNB()"
      ],
      "execution_count": null,
      "outputs": []
    },
    {
      "cell_type": "code",
      "metadata": {
        "colab": {
          "base_uri": "https://localhost:8080/"
        },
        "id": "rIwFV2stbTC6",
        "outputId": "82a4d8b8-fb5a-43f5-fd40-cac2f079d2ee"
      },
      "source": [
        "start_time = time.time()\n",
        "modelGNB.fit(X_train, Y_train.values.ravel())\n",
        "end_time = time.time()\n",
        "\n",
        "print(\"Training time: \",end_time-start_time)"
      ],
      "execution_count": null,
      "outputs": [
        {
          "output_type": "execute_result",
          "data": {
            "text/plain": [
              "GaussianNB(priors=None, var_smoothing=1e-09)"
            ]
          },
          "metadata": {
            "tags": []
          },
          "execution_count": 43
        },
        {
          "output_type": "stream",
          "text": [
            "Training time:  12.162451028823853\n"
          ],
          "name": "stdout"
        }
      ]
    },
    {
      "cell_type": "code",
      "metadata": {
        "id": "tg6Cxg8Tbk2r",
        "colab": {
          "base_uri": "https://localhost:8080/"
        },
        "outputId": "9429b66d-8e66-4e0b-840f-a41017113e1d"
      },
      "source": [
        "start_time = time.time()\n",
        "Y_pred_GNB = modelGNB.predict(X_test)\n",
        "end_time = time.time()\n",
        "\n",
        "print(\"Testing time: \",end_time-start_time)"
      ],
      "execution_count": null,
      "outputs": [
        {
          "output_type": "stream",
          "text": [
            "Testing time:  6.424314975738525\n"
          ],
          "name": "stdout"
        }
      ]
    },
    {
      "cell_type": "code",
      "metadata": {
        "colab": {
          "base_uri": "https://localhost:8080/"
        },
        "id": "kXjwohE7ccdb",
        "outputId": "d9450e88-7d36-4d9e-cbb2-2a2000e8b9e2"
      },
      "source": [
        "print(accuracy_score(Y_test,Y_pred_GNB))\n",
        "print(precision_score(Y_test,Y_pred_GNB,average='weighted'))\n",
        "print(recall_score(Y_test,Y_pred_GNB,average='weighted'))\n",
        "print(f1_score(Y_test,Y_pred_GNB,average='weighted'))"
      ],
      "execution_count": null,
      "outputs": [
        {
          "output_type": "stream",
          "text": [
            "0.8987968942450988\n",
            "0.9717932892120493\n",
            "0.8987968942450988\n",
            "0.9181184212649331\n"
          ],
          "name": "stdout"
        }
      ]
    },
    {
      "cell_type": "markdown",
      "metadata": {
        "id": "yRuiNH3OeBLW"
      },
      "source": [
        "#DECISION TREE"
      ]
    },
    {
      "cell_type": "markdown",
      "metadata": {
        "id": "bvNfu9lBeYCX"
      },
      "source": [
        "***Have tried to train this model of decision tree by tunning  variuos parameter like for criterion as \"Entropy\" , \"Gini_Index\" and max depth as 3,4,5. For this case we got best accuracy for criterion as \"Entropy\" and max depth as 5, so only presenting that.***"
      ]
    },
    {
      "cell_type": "code",
      "metadata": {
        "id": "JC_wSETMd-mg"
      },
      "source": [
        "from sklearn.tree import DecisionTreeClassifier\n",
        "\n",
        "modelDT = DecisionTreeClassifier(criterion=\"entropy\", max_depth = 5)"
      ],
      "execution_count": null,
      "outputs": []
    },
    {
      "cell_type": "code",
      "metadata": {
        "colab": {
          "base_uri": "https://localhost:8080/"
        },
        "id": "Cpyb-QeqeKZy",
        "outputId": "ed592d5e-ecb8-4e95-dd12-7cd0f4014b1f"
      },
      "source": [
        "start_time = time.time()\n",
        "modelDT.fit(X_train, Y_train.values.ravel())\n",
        "end_time = time.time()\n",
        "\n",
        "print(\"Training time: \",end_time-start_time)"
      ],
      "execution_count": null,
      "outputs": [
        {
          "output_type": "execute_result",
          "data": {
            "text/plain": [
              "DecisionTreeClassifier(ccp_alpha=0.0, class_weight=None, criterion='entropy',\n",
              "                       max_depth=5, max_features=None, max_leaf_nodes=None,\n",
              "                       min_impurity_decrease=0.0, min_impurity_split=None,\n",
              "                       min_samples_leaf=1, min_samples_split=2,\n",
              "                       min_weight_fraction_leaf=0.0, presort='deprecated',\n",
              "                       random_state=None, splitter='best')"
            ]
          },
          "metadata": {
            "tags": []
          },
          "execution_count": 9
        },
        {
          "output_type": "stream",
          "text": [
            "Training time:  20.13712978363037\n"
          ],
          "name": "stdout"
        }
      ]
    },
    {
      "cell_type": "code",
      "metadata": {
        "colab": {
          "base_uri": "https://localhost:8080/"
        },
        "id": "cvKxBkeveQri",
        "outputId": "1439b7eb-4232-45be-f8d9-d0ed0b1be15a"
      },
      "source": [
        "start_time = time.time()\n",
        "Y_pred_DT = modelDT.predict(X_test)\n",
        "end_time = time.time()\n",
        "\n",
        "print(\"Testing time: \",end_time-start_time)"
      ],
      "execution_count": null,
      "outputs": [
        {
          "output_type": "stream",
          "text": [
            "Testing time:  0.6757950782775879\n"
          ],
          "name": "stdout"
        }
      ]
    },
    {
      "cell_type": "code",
      "metadata": {
        "colab": {
          "base_uri": "https://localhost:8080/"
        },
        "id": "ca4hwTJlagZQ",
        "outputId": "36925361-d3aa-45f2-c48e-84f57f9c4dc0"
      },
      "source": [
        "# Entropy , Max Depth = 5\n",
        "\n",
        "print(accuracy_score(Y_test,Y_pred_DT))\n",
        "print(precision_score(Y_test,Y_pred_DT,average='weighted'))\n",
        "print(recall_score(Y_test,Y_pred_DT,average='weighted'))\n",
        "print(f1_score(Y_test,Y_pred_DT,average='weighted'))"
      ],
      "execution_count": null,
      "outputs": [
        {
          "output_type": "stream",
          "text": [
            "0.9959871523548346\n",
            "0.9968629014054141\n",
            "0.9959871523548346\n",
            "0.9960794682911239\n"
          ],
          "name": "stdout"
        }
      ]
    },
    {
      "cell_type": "markdown",
      "metadata": {
        "id": "ohtZICBaeu9U"
      },
      "source": [
        "#RANDOM FOREST"
      ]
    },
    {
      "cell_type": "markdown",
      "metadata": {
        "id": "dA1fVxIlgEId"
      },
      "source": [
        "***Have tried to train this Random forest model by tunning the number of tress of forest as 25,30,35,40 i.e. n_estimators and  have got best accuracy for n_estimators as 30, so only presenting that.***"
      ]
    },
    {
      "cell_type": "code",
      "metadata": {
        "id": "pkHiH36Jes8y"
      },
      "source": [
        "from sklearn.ensemble import RandomForestClassifier\n",
        "\n",
        "modelRFC = RandomForestClassifier(n_estimators=30)"
      ],
      "execution_count": null,
      "outputs": []
    },
    {
      "cell_type": "code",
      "metadata": {
        "colab": {
          "base_uri": "https://localhost:8080/"
        },
        "id": "y_gVhx6ae4JU",
        "outputId": "f2755b3a-abd6-4681-cdd3-3ef0ae93506a"
      },
      "source": [
        "start_time = time.time()\n",
        "modelRFC.fit(X_train, Y_train.values.ravel())\n",
        "end_time = time.time()\n",
        "\n",
        "print(\"Training time: \",end_time-start_time)"
      ],
      "execution_count": null,
      "outputs": [
        {
          "output_type": "execute_result",
          "data": {
            "text/plain": [
              "RandomForestClassifier(bootstrap=True, ccp_alpha=0.0, class_weight=None,\n",
              "                       criterion='gini', max_depth=None, max_features='auto',\n",
              "                       max_leaf_nodes=None, max_samples=None,\n",
              "                       min_impurity_decrease=0.0, min_impurity_split=None,\n",
              "                       min_samples_leaf=1, min_samples_split=2,\n",
              "                       min_weight_fraction_leaf=0.0, n_estimators=30,\n",
              "                       n_jobs=None, oob_score=False, random_state=None,\n",
              "                       verbose=0, warm_start=False)"
            ]
          },
          "metadata": {
            "tags": []
          },
          "execution_count": 11
        },
        {
          "output_type": "stream",
          "text": [
            "Training time:  167.53442907333374\n"
          ],
          "name": "stdout"
        }
      ]
    },
    {
      "cell_type": "code",
      "metadata": {
        "colab": {
          "base_uri": "https://localhost:8080/"
        },
        "id": "-qfkPYX2e8IU",
        "outputId": "32f64224-8917-4498-b090-517d95c3fe33"
      },
      "source": [
        "start_time = time.time()\n",
        "Y_pred_RFC = modelRFC.predict(X_test)\n",
        "end_time = time.time()\n",
        "print(\"Testing time: \",end_time-start_time)"
      ],
      "execution_count": null,
      "outputs": [
        {
          "output_type": "stream",
          "text": [
            "Testing time:  10.313700914382935\n"
          ],
          "name": "stdout"
        }
      ]
    },
    {
      "cell_type": "code",
      "metadata": {
        "colab": {
          "base_uri": "https://localhost:8080/"
        },
        "id": "RVqFKNd3fwrK",
        "outputId": "9014e779-0f7f-4f83-95ec-0ee028b36986"
      },
      "source": [
        "# No of trees in the forest is 30\n",
        "\n",
        "print(accuracy_score(Y_test,Y_pred_RFC))\n",
        "print(precision_score(Y_test,Y_pred_RFC,average='weighted'))\n",
        "print(recall_score(Y_test,Y_pred_RFC,average='weighted'))\n",
        "print(f1_score(Y_test,Y_pred_RFC,average='weighted'))"
      ],
      "execution_count": null,
      "outputs": [
        {
          "output_type": "stream",
          "text": [
            "0.9999414778874879\n",
            "0.9999340005272833\n",
            "0.9999414778874879\n",
            "0.9999367871983365\n"
          ],
          "name": "stdout"
        }
      ]
    },
    {
      "cell_type": "markdown",
      "metadata": {
        "id": "sX5tU85NjA0e"
      },
      "source": [
        "#Artificial Neural Network"
      ]
    },
    {
      "cell_type": "code",
      "metadata": {
        "id": "AjvpzbuEjB5O"
      },
      "source": [
        "def fun():\n",
        "    model = Sequential()\n",
        "    \n",
        "    #here 23 is output dimension\n",
        "    model.add(Dense(23,input_dim = 28,activation = 'relu',kernel_initializer='random_uniform'))\n",
        "    \n",
        "    #in next layer we do not specify the input_dim as the model is sequential so output of previous layer is input to next layer\n",
        "    model.add(Dense(1,activation='sigmoid',kernel_initializer='random_uniform'))\n",
        "    \n",
        "    model.add(Dense(23,activation='softmax'))\n",
        "    \n",
        "    #loss is categorical_crossentropy which specifies that we have multiple classes\n",
        "    model.compile(loss ='categorical_crossentropy',optimizer = 'adam',metrics = ['accuracy'])\n",
        "    \n",
        "    return model"
      ],
      "execution_count": null,
      "outputs": []
    },
    {
      "cell_type": "code",
      "metadata": {
        "id": "1Jj55SYpjKo0"
      },
      "source": [
        "model_ANN = KerasClassifier(build_fn=fun,epochs=100,batch_size=256)"
      ],
      "execution_count": null,
      "outputs": []
    },
    {
      "cell_type": "code",
      "metadata": {
        "colab": {
          "base_uri": "https://localhost:8080/"
        },
        "id": "z9Ch-1B2jzLd",
        "outputId": "4ff28232-1ce0-4b85-9adb-a353305fb641"
      },
      "source": [
        "start = time.time()\n",
        "model_ANN.fit(X_train, Y_train.values.ravel())\n",
        "end = time.time()"
      ],
      "execution_count": null,
      "outputs": [
        {
          "output_type": "stream",
          "text": [
            "Epoch 1/100\n",
            "3349/3349 [==============================] - 11s 3ms/step - loss: 1.9928 - accuracy: 0.7122\n",
            "Epoch 2/100\n",
            "3349/3349 [==============================] - 10s 3ms/step - loss: 0.5568 - accuracy: 0.8451\n",
            "Epoch 3/100\n",
            "3349/3349 [==============================] - 10s 3ms/step - loss: 0.2529 - accuracy: 0.9906\n",
            "Epoch 4/100\n",
            "3349/3349 [==============================] - 9s 3ms/step - loss: 0.1602 - accuracy: 0.9906\n",
            "Epoch 5/100\n",
            "3349/3349 [==============================] - 10s 3ms/step - loss: 0.1116 - accuracy: 0.9906\n",
            "Epoch 6/100\n",
            "3349/3349 [==============================] - 10s 3ms/step - loss: 0.0872 - accuracy: 0.9906\n",
            "Epoch 7/100\n",
            "3349/3349 [==============================] - 10s 3ms/step - loss: 0.0726 - accuracy: 0.9906\n",
            "Epoch 8/100\n",
            "3349/3349 [==============================] - 9s 3ms/step - loss: 0.0628 - accuracy: 0.9907\n",
            "Epoch 9/100\n",
            "3349/3349 [==============================] - 9s 3ms/step - loss: 0.0549 - accuracy: 0.9907\n",
            "Epoch 10/100\n",
            "3349/3349 [==============================] - 9s 3ms/step - loss: 0.0488 - accuracy: 0.9906\n",
            "Epoch 11/100\n",
            "3349/3349 [==============================] - 9s 3ms/step - loss: 0.0438 - accuracy: 0.9907\n",
            "Epoch 12/100\n",
            "3349/3349 [==============================] - 9s 3ms/step - loss: 0.0396 - accuracy: 0.9908\n",
            "Epoch 13/100\n",
            "3349/3349 [==============================] - 9s 3ms/step - loss: 0.0370 - accuracy: 0.9907\n",
            "Epoch 14/100\n",
            "3349/3349 [==============================] - 9s 3ms/step - loss: 0.0344 - accuracy: 0.9907\n",
            "Epoch 15/100\n",
            "3349/3349 [==============================] - 9s 3ms/step - loss: 0.0320 - accuracy: 0.9907\n",
            "Epoch 16/100\n",
            "3349/3349 [==============================] - 9s 3ms/step - loss: 0.0308 - accuracy: 0.9916\n",
            "Epoch 17/100\n",
            "3349/3349 [==============================] - 9s 3ms/step - loss: 0.0291 - accuracy: 0.9929\n",
            "Epoch 18/100\n",
            "3349/3349 [==============================] - 9s 3ms/step - loss: 0.0278 - accuracy: 0.9934\n",
            "Epoch 19/100\n",
            "3349/3349 [==============================] - 9s 3ms/step - loss: 0.0269 - accuracy: 0.9936\n",
            "Epoch 20/100\n",
            "3349/3349 [==============================] - 9s 3ms/step - loss: 0.0257 - accuracy: 0.9937\n",
            "Epoch 21/100\n",
            "3349/3349 [==============================] - 9s 3ms/step - loss: 0.0255 - accuracy: 0.9937\n",
            "Epoch 22/100\n",
            "3349/3349 [==============================] - 9s 3ms/step - loss: 0.0251 - accuracy: 0.9937\n",
            "Epoch 23/100\n",
            "3349/3349 [==============================] - 9s 3ms/step - loss: 0.0246 - accuracy: 0.9937\n",
            "Epoch 24/100\n",
            "3349/3349 [==============================] - 9s 3ms/step - loss: 0.0241 - accuracy: 0.9936\n",
            "Epoch 25/100\n",
            "3349/3349 [==============================] - 9s 3ms/step - loss: 0.0234 - accuracy: 0.9938\n",
            "Epoch 26/100\n",
            "3349/3349 [==============================] - 9s 3ms/step - loss: 0.0238 - accuracy: 0.9937\n",
            "Epoch 27/100\n",
            "3349/3349 [==============================] - 9s 3ms/step - loss: 0.0228 - accuracy: 0.9937\n",
            "Epoch 28/100\n",
            "3349/3349 [==============================] - 9s 3ms/step - loss: 0.0229 - accuracy: 0.9938\n",
            "Epoch 29/100\n",
            "3349/3349 [==============================] - 9s 3ms/step - loss: 0.0225 - accuracy: 0.9938\n",
            "Epoch 30/100\n",
            "3349/3349 [==============================] - 9s 3ms/step - loss: 0.0225 - accuracy: 0.9938\n",
            "Epoch 31/100\n",
            "3349/3349 [==============================] - 9s 3ms/step - loss: 0.0223 - accuracy: 0.9938\n",
            "Epoch 32/100\n",
            "3349/3349 [==============================] - 9s 3ms/step - loss: 0.0219 - accuracy: 0.9938\n",
            "Epoch 33/100\n",
            "3349/3349 [==============================] - 9s 3ms/step - loss: 0.0216 - accuracy: 0.9938\n",
            "Epoch 34/100\n",
            "3349/3349 [==============================] - 9s 3ms/step - loss: 0.0220 - accuracy: 0.9937\n",
            "Epoch 35/100\n",
            "3349/3349 [==============================] - 9s 3ms/step - loss: 0.0214 - accuracy: 0.9938\n",
            "Epoch 36/100\n",
            "3349/3349 [==============================] - 9s 3ms/step - loss: 0.0257 - accuracy: 0.9931\n",
            "Epoch 37/100\n",
            "3349/3349 [==============================] - 9s 3ms/step - loss: 0.0214 - accuracy: 0.9938\n",
            "Epoch 38/100\n",
            "3349/3349 [==============================] - 9s 3ms/step - loss: 0.0215 - accuracy: 0.9938\n",
            "Epoch 39/100\n",
            "3349/3349 [==============================] - 9s 3ms/step - loss: 0.0214 - accuracy: 0.9938\n",
            "Epoch 40/100\n",
            "3349/3349 [==============================] - 9s 3ms/step - loss: 0.0210 - accuracy: 0.9939\n",
            "Epoch 41/100\n",
            "3349/3349 [==============================] - 9s 3ms/step - loss: 0.0211 - accuracy: 0.9939\n",
            "Epoch 42/100\n",
            "3349/3349 [==============================] - 10s 3ms/step - loss: 0.0212 - accuracy: 0.9941\n",
            "Epoch 43/100\n",
            "3349/3349 [==============================] - 9s 3ms/step - loss: 0.0205 - accuracy: 0.9943\n",
            "Epoch 44/100\n",
            "3349/3349 [==============================] - 9s 3ms/step - loss: 0.0205 - accuracy: 0.9946\n",
            "Epoch 45/100\n",
            "3349/3349 [==============================] - 9s 3ms/step - loss: 0.0200 - accuracy: 0.9949\n",
            "Epoch 46/100\n",
            "3349/3349 [==============================] - 9s 3ms/step - loss: 0.0205 - accuracy: 0.9948\n",
            "Epoch 47/100\n",
            "3349/3349 [==============================] - 9s 3ms/step - loss: 0.0201 - accuracy: 0.9949\n",
            "Epoch 48/100\n",
            "3349/3349 [==============================] - 10s 3ms/step - loss: 0.0198 - accuracy: 0.9951\n",
            "Epoch 49/100\n",
            "3349/3349 [==============================] - 9s 3ms/step - loss: 0.0199 - accuracy: 0.9952\n",
            "Epoch 50/100\n",
            "3349/3349 [==============================] - 9s 3ms/step - loss: 0.0196 - accuracy: 0.9951\n",
            "Epoch 51/100\n",
            "3349/3349 [==============================] - 9s 3ms/step - loss: 0.0202 - accuracy: 0.9956\n",
            "Epoch 52/100\n",
            "3349/3349 [==============================] - 9s 3ms/step - loss: 0.0194 - accuracy: 0.9963\n",
            "Epoch 53/100\n",
            "3349/3349 [==============================] - 9s 3ms/step - loss: 0.0199 - accuracy: 0.9965\n",
            "Epoch 54/100\n",
            "3349/3349 [==============================] - 9s 3ms/step - loss: 0.0194 - accuracy: 0.9968\n",
            "Epoch 55/100\n",
            "3349/3349 [==============================] - 9s 3ms/step - loss: 0.0198 - accuracy: 0.9967\n",
            "Epoch 56/100\n",
            "3349/3349 [==============================] - 9s 3ms/step - loss: 0.0191 - accuracy: 0.9967\n",
            "Epoch 57/100\n",
            "3349/3349 [==============================] - 10s 3ms/step - loss: 0.0191 - accuracy: 0.9965\n",
            "Epoch 58/100\n",
            "3349/3349 [==============================] - 10s 3ms/step - loss: 0.0186 - accuracy: 0.9966\n",
            "Epoch 59/100\n",
            "3349/3349 [==============================] - 10s 3ms/step - loss: 0.0196 - accuracy: 0.9964\n",
            "Epoch 60/100\n",
            "3349/3349 [==============================] - 10s 3ms/step - loss: 0.0194 - accuracy: 0.9964\n",
            "Epoch 61/100\n",
            "3349/3349 [==============================] - 9s 3ms/step - loss: 0.0182 - accuracy: 0.9966\n",
            "Epoch 62/100\n",
            "3349/3349 [==============================] - 10s 3ms/step - loss: 0.0184 - accuracy: 0.9964\n",
            "Epoch 63/100\n",
            "3349/3349 [==============================] - 9s 3ms/step - loss: 0.0180 - accuracy: 0.9964\n",
            "Epoch 64/100\n",
            "3349/3349 [==============================] - 9s 3ms/step - loss: 0.0178 - accuracy: 0.9964\n",
            "Epoch 65/100\n",
            "3349/3349 [==============================] - 9s 3ms/step - loss: 0.0178 - accuracy: 0.9963\n",
            "Epoch 66/100\n",
            "3349/3349 [==============================] - 9s 3ms/step - loss: 0.0185 - accuracy: 0.9963\n",
            "Epoch 67/100\n",
            "3349/3349 [==============================] - 9s 3ms/step - loss: 0.0179 - accuracy: 0.9964\n",
            "Epoch 68/100\n",
            "3349/3349 [==============================] - 9s 3ms/step - loss: 0.0177 - accuracy: 0.9963\n",
            "Epoch 69/100\n",
            "3349/3349 [==============================] - 9s 3ms/step - loss: 0.0174 - accuracy: 0.9963\n",
            "Epoch 70/100\n",
            "3349/3349 [==============================] - 9s 3ms/step - loss: 0.0175 - accuracy: 0.9963\n",
            "Epoch 71/100\n",
            "3349/3349 [==============================] - 9s 3ms/step - loss: 0.0170 - accuracy: 0.9964\n",
            "Epoch 72/100\n",
            "3349/3349 [==============================] - 9s 3ms/step - loss: 0.0173 - accuracy: 0.9963\n",
            "Epoch 73/100\n",
            "3349/3349 [==============================] - 9s 3ms/step - loss: 0.0173 - accuracy: 0.9964\n",
            "Epoch 74/100\n",
            "3349/3349 [==============================] - 9s 3ms/step - loss: 0.0180 - accuracy: 0.9962\n",
            "Epoch 75/100\n",
            "3349/3349 [==============================] - 10s 3ms/step - loss: 0.0177 - accuracy: 0.9963\n",
            "Epoch 76/100\n",
            "3349/3349 [==============================] - 10s 3ms/step - loss: 0.0175 - accuracy: 0.9964\n",
            "Epoch 77/100\n",
            "3349/3349 [==============================] - 10s 3ms/step - loss: 0.0171 - accuracy: 0.9963\n",
            "Epoch 78/100\n",
            "3349/3349 [==============================] - 10s 3ms/step - loss: 0.0170 - accuracy: 0.9964\n",
            "Epoch 79/100\n",
            "3349/3349 [==============================] - 10s 3ms/step - loss: 0.0171 - accuracy: 0.9964\n",
            "Epoch 80/100\n",
            "3349/3349 [==============================] - 9s 3ms/step - loss: 0.0165 - accuracy: 0.9965\n",
            "Epoch 81/100\n",
            "3349/3349 [==============================] - 9s 3ms/step - loss: 0.0169 - accuracy: 0.9964\n",
            "Epoch 82/100\n",
            "3349/3349 [==============================] - 10s 3ms/step - loss: 0.0168 - accuracy: 0.9964\n",
            "Epoch 83/100\n",
            "3349/3349 [==============================] - 10s 3ms/step - loss: 0.0164 - accuracy: 0.9965\n",
            "Epoch 84/100\n",
            "3349/3349 [==============================] - 10s 3ms/step - loss: 0.0171 - accuracy: 0.9964\n",
            "Epoch 85/100\n",
            "3349/3349 [==============================] - 10s 3ms/step - loss: 0.0165 - accuracy: 0.9966\n",
            "Epoch 86/100\n",
            "3349/3349 [==============================] - 10s 3ms/step - loss: 0.0167 - accuracy: 0.9965\n",
            "Epoch 87/100\n",
            "3349/3349 [==============================] - 9s 3ms/step - loss: 0.0172 - accuracy: 0.9967\n",
            "Epoch 88/100\n",
            "3349/3349 [==============================] - 9s 3ms/step - loss: 0.0164 - accuracy: 0.9967\n",
            "Epoch 89/100\n",
            "3349/3349 [==============================] - 9s 3ms/step - loss: 0.0162 - accuracy: 0.9967\n",
            "Epoch 90/100\n",
            "3349/3349 [==============================] - 9s 3ms/step - loss: 0.0162 - accuracy: 0.9970\n",
            "Epoch 91/100\n",
            "3349/3349 [==============================] - 9s 3ms/step - loss: 0.0164 - accuracy: 0.9969\n",
            "Epoch 92/100\n",
            "3349/3349 [==============================] - 9s 3ms/step - loss: 0.0160 - accuracy: 0.9969\n",
            "Epoch 93/100\n",
            "3349/3349 [==============================] - 9s 3ms/step - loss: 0.0163 - accuracy: 0.9971\n",
            "Epoch 94/100\n",
            "3349/3349 [==============================] - 9s 3ms/step - loss: 0.0163 - accuracy: 0.9970\n",
            "Epoch 95/100\n",
            "3349/3349 [==============================] - 9s 3ms/step - loss: 0.0163 - accuracy: 0.9974\n",
            "Epoch 96/100\n",
            "3349/3349 [==============================] - 9s 3ms/step - loss: 0.0167 - accuracy: 0.9972\n",
            "Epoch 97/100\n",
            "3349/3349 [==============================] - 9s 3ms/step - loss: 0.0167 - accuracy: 0.9972\n",
            "Epoch 98/100\n",
            "3349/3349 [==============================] - 9s 3ms/step - loss: 0.0162 - accuracy: 0.9978\n",
            "Epoch 99/100\n",
            "3349/3349 [==============================] - 9s 3ms/step - loss: 0.0159 - accuracy: 0.9977\n",
            "Epoch 100/100\n",
            "3349/3349 [==============================] - 10s 3ms/step - loss: 0.0158 - accuracy: 0.9977\n"
          ],
          "name": "stdout"
        },
        {
          "output_type": "execute_result",
          "data": {
            "text/plain": [
              "<tensorflow.python.keras.callbacks.History at 0x7fc4fc220f50>"
            ]
          },
          "metadata": {
            "tags": []
          },
          "execution_count": 56
        }
      ]
    },
    {
      "cell_type": "code",
      "metadata": {
        "colab": {
          "base_uri": "https://localhost:8080/"
        },
        "id": "B4itRGNPkCCd",
        "outputId": "9aa8c051-4df4-4a0c-e206-c48de2a054d4"
      },
      "source": [
        "start_time = time.time()\n",
        "Y_pred_ANN = model_ANN.predict(X_test)\n",
        "end_time = time.time()\n",
        "\n",
        "print(\"Testing time: \",end_time-start_time)"
      ],
      "execution_count": null,
      "outputs": [
        {
          "output_type": "stream",
          "text": [
            "Testing time:  3.3958234786987305\n"
          ],
          "name": "stdout"
        }
      ]
    },
    {
      "cell_type": "code",
      "metadata": {
        "colab": {
          "base_uri": "https://localhost:8080/"
        },
        "id": "asb8zXvOqTDU",
        "outputId": "a49f6565-04b5-4acc-e1d2-b0e514bd0f34"
      },
      "source": [
        "# No of epochs are 100\n",
        "\n",
        "print(accuracy_score(Y_test,Y_pred_ANN))\n",
        "print(precision_score(Y_test,Y_pred_ANN,average='weighted'))\n",
        "print(recall_score(Y_test,Y_pred_ANN,average='weighted'))\n",
        "print(f1_score(Y_test,Y_pred_ANN,average='weighted'))"
      ],
      "execution_count": null,
      "outputs": [
        {
          "output_type": "stream",
          "text": [
            "0.997891162480521\n",
            "0.9965535599353518\n",
            "0.997891162480521\n",
            "0.9971900376076196\n"
          ],
          "name": "stdout"
        }
      ]
    },
    {
      "cell_type": "markdown",
      "metadata": {
        "id": "k8mUVKcTTzN6"
      },
      "source": [
        "#Performance Comparison"
      ]
    },
    {
      "cell_type": "code",
      "metadata": {
        "colab": {
          "base_uri": "https://localhost:8080/",
          "height": 0
        },
        "id": "hI9fe16RP50q",
        "outputId": "a9a1b952-44c4-40b2-c7d0-982e0a948d2c"
      },
      "source": [
        "from tabulate import tabulate\n",
        "print(tabulate([['GAUSSIAN NAIVE BAYES','DECISION TREE','RANDOM FOREST', 'ARTIFICIAL NEURAL NETWORK'],\n",
        "          ['accuracy_score',0.8987,0.9960,0.9999,0.9979],\n",
        "          ['precision_score',0.9718,0.9969,0.9999,0.9965],\n",
        "          ['recall_score',0.8988,0.9959,0.9999,0.9979],\n",
        "          ['f1_score',0.9187,0.9961,0.9999,0.9972]],headers=\"firstrow\"))"
      ],
      "execution_count": 3,
      "outputs": [
        {
          "output_type": "stream",
          "text": [
            "                   GAUSSIAN NAIVE BAYES    DECISION TREE    RANDOM FOREST    ARTIFICIAL NEURAL NETWORK\n",
            "---------------  ----------------------  ---------------  ---------------  ---------------------------\n",
            "accuracy_score                   0.8987           0.996            0.9999                       0.9979\n",
            "precision_score                  0.9718           0.9969           0.9999                       0.9965\n",
            "recall_score                     0.8988           0.9959           0.9999                       0.9979\n",
            "f1_score                         0.9187           0.9961           0.9999                       0.9972\n"
          ],
          "name": "stdout"
        }
      ]
    },
    {
      "cell_type": "markdown",
      "metadata": {
        "id": "MN8ANx0lTYVg"
      },
      "source": [
        "**We can observe from above that we are getting highest accuarcy in Random Forest model so we will be using Random forest model on the given test data to predict the output**"
      ]
    },
    {
      "cell_type": "markdown",
      "metadata": {
        "id": "eSLJYR4ApwQ2"
      },
      "source": [
        "#Predict given test data"
      ]
    },
    {
      "cell_type": "code",
      "metadata": {
        "id": "K217Pmht0sce"
      },
      "source": [
        "T_df = pd.read_csv('/content/drive/MyDrive/SNS5_test.csv',header = None)"
      ],
      "execution_count": null,
      "outputs": []
    },
    {
      "cell_type": "code",
      "metadata": {
        "colab": {
          "base_uri": "https://localhost:8080/",
          "height": 721
        },
        "id": "-_Hxjzcx8d85",
        "outputId": "4636c1be-c768-4ca2-b27b-e4041c7e7168"
      },
      "source": [
        "T_df = T_df[[col for col in T_df if T_df[col].nunique() > 1]]\n",
        "\n",
        "corr = T_df.corr()\n",
        "\n",
        "plt.figure(figsize=(15,12))\n",
        "\n",
        "sns.heatmap(corr)\n",
        "\n",
        "plt.show()"
      ],
      "execution_count": null,
      "outputs": [
        {
          "output_type": "execute_result",
          "data": {
            "text/plain": [
              "<Figure size 1080x864 with 0 Axes>"
            ]
          },
          "metadata": {
            "tags": []
          },
          "execution_count": 60
        },
        {
          "output_type": "execute_result",
          "data": {
            "text/plain": [
              "<matplotlib.axes._subplots.AxesSubplot at 0x7fc509145250>"
            ]
          },
          "metadata": {
            "tags": []
          },
          "execution_count": 60
        },
        {
          "output_type": "display_data",
          "data": {
            "image/png": "[encoded data removed]",
            "text/plain": [
              "<Figure size 1080x864 with 2 Axes>"
            ]
          },
          "metadata": {
            "tags": [],
            "needs_background": "light"
          }
        }
      ]
    },
    {
      "cell_type": "code",
      "metadata": {
        "id": "fS1hkLMX1GyP"
      },
      "source": [
        "T_df.drop(0,axis = 1,inplace = True)\n",
        "T_df.drop(25,axis = 1,inplace = True)\n",
        "T_df.drop(26,axis = 1,inplace = True)\n",
        "T_df.drop(27,axis = 1,inplace = True)\n",
        "T_df.drop(28,axis = 1,inplace = True)\n",
        "T_df.drop(13,axis = 1,inplace = True)\n",
        "T_df.drop(16,axis = 1,inplace = True)\n",
        "T_df.drop(33,axis = 1,inplace = True)\n",
        "T_df.drop(34,axis = 1,inplace = True)\n",
        "T_df.drop(38,axis = 1,inplace = True)\n",
        "T_df.drop(39,axis = 1,inplace = True)\n",
        "T_df.drop(40,axis = 1,inplace = True)\n",
        "T_df.drop(41,axis = 1,inplace = True)"
      ],
      "execution_count": null,
      "outputs": []
    },
    {
      "cell_type": "code",
      "metadata": {
        "colab": {
          "base_uri": "https://localhost:8080/",
          "height": 721
        },
        "id": "MVzBIfHV1mmd",
        "outputId": "5ef80b50-1d64-494a-f821-feeaace588ea"
      },
      "source": [
        "T_df = T_df[[col for col in T_df if T_df[col].nunique() > 1]]\n",
        "\n",
        "corr = T_df.corr()\n",
        "\n",
        "plt.figure(figsize=(15,12))\n",
        "\n",
        "sns.heatmap(corr)\n",
        "\n",
        "plt.show()"
      ],
      "execution_count": null,
      "outputs": [
        {
          "output_type": "execute_result",
          "data": {
            "text/plain": [
              "<Figure size 1080x864 with 0 Axes>"
            ]
          },
          "metadata": {
            "tags": []
          },
          "execution_count": 17
        },
        {
          "output_type": "execute_result",
          "data": {
            "text/plain": [
              "<matplotlib.axes._subplots.AxesSubplot at 0x7ff02241e550>"
            ]
          },
          "metadata": {
            "tags": []
          },
          "execution_count": 17
        },
        {
          "output_type": "display_data",
          "data": {
            "image/png": "[encoded data removed]",
            "text/plain": [
              "<Figure size 1080x864 with 2 Axes>"
            ]
          },
          "metadata": {
            "tags": [],
            "needs_background": "light"
          }
        }
      ]
    },
    {
      "cell_type": "code",
      "metadata": {
        "id": "CfPFou3M12wk"
      },
      "source": [
        "T_df[2].replace({'icmp': 0, 'tcp': 1, 'udp' : 2}, inplace=True)\n",
        "T_df[3].replace({'http':1, 'smtp':2, 'domain_u':3, 'auth':4, 'finger':5, 'telnet':6, 'eco_i':7,\n",
        "               'ftp':8, 'ntp_u':9, 'ecr_i':10, 'other':11, 'urp_i':12, 'private':13, 'pop_3':14,\n",
        "               'ftp_data':15, 'netstat':16, 'daytime':17, 'ssh':18, 'echo':19, 'time':20,\n",
        "               'name':21,'whois':22, 'domain':23, 'mtp':24, 'gopher':25, 'remote_job':26, \n",
        "               'rje':17, 'ctf':28,'supdup':29, 'link':30, 'systat':31, 'discard':32, 'X11':33, \n",
        "               'shell':34, 'login':35,'imap4':36, 'nntp':37, 'uucp':38, 'pm_dump':39, 'IRC':40, \n",
        "               'Z39_50':41, 'netbios_dgm':42,'ldap':43, 'sunrpc':44, 'courier':45, 'exec':46, \n",
        "               'bgp':47, 'csnet_ns':48, 'http_443':49,'klogin':50, 'printer':51, 'netbios_ssn':52, \n",
        "               'pop_2':53, 'nnsp':54, 'efs':55,'hostnames':56, 'uucp_path':57, 'sql_net':58, \n",
        "               'vmnet':59, 'iso_tsap':60,'netbios_ns':61, 'kshell':62, 'urh_i':63, 'http_2784':64, \n",
        "               'harvest':65, 'aol':66,'tftp_u':67, 'http_8001':68, 'tim_i':69, 'icmp':190}, inplace=True)\n",
        "T_df[4].replace({'SF':0,'S0':1,'REJ':2,'RSTR':3,'RSTO':4,'SH':5 ,'S1':6 ,'S2':7,'RSTOS0':8,'OTH':9,\n",
        "                 'S3':10}, inplace=True)"
      ],
      "execution_count": null,
      "outputs": []
    },
    {
      "cell_type": "code",
      "metadata": {
        "colab": {
          "base_uri": "https://localhost:8080/",
          "height": 221
        },
        "id": "EDd-Gu7y2ZN1",
        "outputId": "84d9865a-756f-40ce-d3ef-03b0865d3bb9"
      },
      "source": [
        "T_df.shape\n",
        "T_df.head()"
      ],
      "execution_count": null,
      "outputs": [
        {
          "output_type": "execute_result",
          "data": {
            "text/plain": [
              "(311028, 28)"
            ]
          },
          "metadata": {
            "tags": []
          },
          "execution_count": 64
        },
        {
          "output_type": "execute_result",
          "data": {
            "text/html": [
              "<div>\n",
              "<style scoped>\n",
              "    .dataframe tbody tr th:only-of-type {\n",
              "        vertical-align: middle;\n",
              "    }\n",
              "\n",
              "    .dataframe tbody tr th {\n",
              "        vertical-align: top;\n",
              "    }\n",
              "\n",
              "    .dataframe thead th {\n",
              "        text-align: right;\n",
              "    }\n",
              "</style>\n",
              "<table border=\"1\" class=\"dataframe\">\n",
              "  <thead>\n",
              "    <tr style=\"text-align: right;\">\n",
              "      <th></th>\n",
              "      <th>1</th>\n",
              "      <th>2</th>\n",
              "      <th>3</th>\n",
              "      <th>4</th>\n",
              "      <th>5</th>\n",
              "      <th>6</th>\n",
              "      <th>7</th>\n",
              "      <th>8</th>\n",
              "      <th>9</th>\n",
              "      <th>10</th>\n",
              "      <th>11</th>\n",
              "      <th>12</th>\n",
              "      <th>14</th>\n",
              "      <th>15</th>\n",
              "      <th>17</th>\n",
              "      <th>18</th>\n",
              "      <th>19</th>\n",
              "      <th>21</th>\n",
              "      <th>22</th>\n",
              "      <th>23</th>\n",
              "      <th>24</th>\n",
              "      <th>29</th>\n",
              "      <th>30</th>\n",
              "      <th>31</th>\n",
              "      <th>32</th>\n",
              "      <th>35</th>\n",
              "      <th>36</th>\n",
              "      <th>37</th>\n",
              "    </tr>\n",
              "  </thead>\n",
              "  <tbody>\n",
              "    <tr>\n",
              "      <th>0</th>\n",
              "      <td>0</td>\n",
              "      <td>2</td>\n",
              "      <td>13</td>\n",
              "      <td>0</td>\n",
              "      <td>105</td>\n",
              "      <td>146</td>\n",
              "      <td>0</td>\n",
              "      <td>0</td>\n",
              "      <td>0</td>\n",
              "      <td>0</td>\n",
              "      <td>0</td>\n",
              "      <td>0</td>\n",
              "      <td>0</td>\n",
              "      <td>0</td>\n",
              "      <td>0</td>\n",
              "      <td>0</td>\n",
              "      <td>0</td>\n",
              "      <td>0</td>\n",
              "      <td>0</td>\n",
              "      <td>1</td>\n",
              "      <td>1</td>\n",
              "      <td>1.0</td>\n",
              "      <td>0.0</td>\n",
              "      <td>0.0</td>\n",
              "      <td>255</td>\n",
              "      <td>0.01</td>\n",
              "      <td>0.00</td>\n",
              "      <td>0.0</td>\n",
              "    </tr>\n",
              "    <tr>\n",
              "      <th>1</th>\n",
              "      <td>0</td>\n",
              "      <td>2</td>\n",
              "      <td>13</td>\n",
              "      <td>0</td>\n",
              "      <td>105</td>\n",
              "      <td>146</td>\n",
              "      <td>0</td>\n",
              "      <td>0</td>\n",
              "      <td>0</td>\n",
              "      <td>0</td>\n",
              "      <td>0</td>\n",
              "      <td>0</td>\n",
              "      <td>0</td>\n",
              "      <td>0</td>\n",
              "      <td>0</td>\n",
              "      <td>0</td>\n",
              "      <td>0</td>\n",
              "      <td>0</td>\n",
              "      <td>0</td>\n",
              "      <td>1</td>\n",
              "      <td>1</td>\n",
              "      <td>1.0</td>\n",
              "      <td>0.0</td>\n",
              "      <td>0.0</td>\n",
              "      <td>255</td>\n",
              "      <td>0.01</td>\n",
              "      <td>0.00</td>\n",
              "      <td>0.0</td>\n",
              "    </tr>\n",
              "    <tr>\n",
              "      <th>2</th>\n",
              "      <td>0</td>\n",
              "      <td>2</td>\n",
              "      <td>13</td>\n",
              "      <td>0</td>\n",
              "      <td>105</td>\n",
              "      <td>146</td>\n",
              "      <td>0</td>\n",
              "      <td>0</td>\n",
              "      <td>0</td>\n",
              "      <td>0</td>\n",
              "      <td>0</td>\n",
              "      <td>0</td>\n",
              "      <td>0</td>\n",
              "      <td>0</td>\n",
              "      <td>0</td>\n",
              "      <td>0</td>\n",
              "      <td>0</td>\n",
              "      <td>0</td>\n",
              "      <td>0</td>\n",
              "      <td>2</td>\n",
              "      <td>2</td>\n",
              "      <td>1.0</td>\n",
              "      <td>0.0</td>\n",
              "      <td>0.0</td>\n",
              "      <td>255</td>\n",
              "      <td>0.01</td>\n",
              "      <td>0.00</td>\n",
              "      <td>0.0</td>\n",
              "    </tr>\n",
              "    <tr>\n",
              "      <th>3</th>\n",
              "      <td>0</td>\n",
              "      <td>2</td>\n",
              "      <td>13</td>\n",
              "      <td>0</td>\n",
              "      <td>105</td>\n",
              "      <td>146</td>\n",
              "      <td>0</td>\n",
              "      <td>0</td>\n",
              "      <td>0</td>\n",
              "      <td>0</td>\n",
              "      <td>0</td>\n",
              "      <td>0</td>\n",
              "      <td>0</td>\n",
              "      <td>0</td>\n",
              "      <td>0</td>\n",
              "      <td>0</td>\n",
              "      <td>0</td>\n",
              "      <td>0</td>\n",
              "      <td>0</td>\n",
              "      <td>2</td>\n",
              "      <td>2</td>\n",
              "      <td>1.0</td>\n",
              "      <td>0.0</td>\n",
              "      <td>0.0</td>\n",
              "      <td>255</td>\n",
              "      <td>0.01</td>\n",
              "      <td>0.01</td>\n",
              "      <td>0.0</td>\n",
              "    </tr>\n",
              "    <tr>\n",
              "      <th>4</th>\n",
              "      <td>0</td>\n",
              "      <td>2</td>\n",
              "      <td>13</td>\n",
              "      <td>0</td>\n",
              "      <td>105</td>\n",
              "      <td>146</td>\n",
              "      <td>0</td>\n",
              "      <td>0</td>\n",
              "      <td>0</td>\n",
              "      <td>0</td>\n",
              "      <td>0</td>\n",
              "      <td>0</td>\n",
              "      <td>0</td>\n",
              "      <td>0</td>\n",
              "      <td>0</td>\n",
              "      <td>0</td>\n",
              "      <td>0</td>\n",
              "      <td>0</td>\n",
              "      <td>0</td>\n",
              "      <td>2</td>\n",
              "      <td>2</td>\n",
              "      <td>1.0</td>\n",
              "      <td>0.0</td>\n",
              "      <td>0.0</td>\n",
              "      <td>255</td>\n",
              "      <td>0.00</td>\n",
              "      <td>0.01</td>\n",
              "      <td>0.0</td>\n",
              "    </tr>\n",
              "  </tbody>\n",
              "</table>\n",
              "</div>"
            ],
            "text/plain": [
              "   1   2   3   4    5    6   7   8   ...  24   29   30   31   32    35    36   37\n",
              "0   0   2  13   0  105  146   0   0  ...   1  1.0  0.0  0.0  255  0.01  0.00  0.0\n",
              "1   0   2  13   0  105  146   0   0  ...   1  1.0  0.0  0.0  255  0.01  0.00  0.0\n",
              "2   0   2  13   0  105  146   0   0  ...   2  1.0  0.0  0.0  255  0.01  0.00  0.0\n",
              "3   0   2  13   0  105  146   0   0  ...   2  1.0  0.0  0.0  255  0.01  0.01  0.0\n",
              "4   0   2  13   0  105  146   0   0  ...   2  1.0  0.0  0.0  255  0.00  0.01  0.0\n",
              "\n",
              "[5 rows x 28 columns]"
            ]
          },
          "metadata": {
            "tags": []
          },
          "execution_count": 64
        }
      ]
    },
    {
      "cell_type": "code",
      "metadata": {
        "colab": {
          "base_uri": "https://localhost:8080/"
        },
        "id": "TbtTgTyY2Kkw",
        "outputId": "5446f67d-5049-4d79-b95c-8863771832ab"
      },
      "source": [
        "start_time = time.time()\n",
        "new_pred_RFC = modelRFC.predict(T_df)\n",
        "end_time = time.time()\n",
        "\n",
        "print(\"Testing time: \",end_time-start_time)"
      ],
      "execution_count": null,
      "outputs": [
        {
          "output_type": "stream",
          "text": [
            "Testing time:  1.888282060623169\n"
          ],
          "name": "stdout"
        }
      ]
    },
    {
      "cell_type": "code",
      "metadata": {
        "id": "HKbDsj-EtjZ6"
      },
      "source": [
        "new_pred_RFC =  np.append(new_pred_RFC,new_pred_RFC[-1:])\n",
        "DF = pd.DataFrame(new_pred_RFC)\n",
        "DF.to_csv(\"testLabel.csv\",index=True,header=['target'])"
      ],
      "execution_count": null,
      "outputs": []
    }
  ]
}